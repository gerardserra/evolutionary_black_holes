{
 "cells": [
  {
   "cell_type": "code",
   "execution_count": null,
   "metadata": {},
   "outputs": [],
   "source": [
    "endExperiment = false\n",
    "totalRings = int32(10)\n",
    "targetSolution = moduleSolver.linearEquation(totalRings)\n",
    "\n",
    "x=[2,3,8]; y=[15,8,30]; \n",
    "plot(x,y)\n",
    "\n",
    "\n",
    "moduleSolver = py.importlib.import_module('solver');\n",
    "\n",
    "s = moduleSolver.Solver()\n",
    "candidates = s.ask()\n",
    "\n",
    "gen = 0\n",
    "\n",
    "while not(endExperiment)\n",
    "    proposals = moduleSolver.evaluateMinimal(candidates,targetSolution)\n",
    "    endExperiment = s.tell(proposals)\n",
    "    candidates = s.ask()\n",
    "end\n",
    "\n",
    "\n",
    "\n"
   ]
  },
  {
   "cell_type": "code",
   "execution_count": null,
   "metadata": {},
   "outputs": [],
   "source": []
  }
 ],
 "metadata": {
  "kernelspec": {
   "display_name": "Matlab",
   "language": "matlab",
   "name": "matlab"
  }
 },
 "nbformat": 4,
 "nbformat_minor": 4
}
