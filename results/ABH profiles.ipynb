{
 "cells": [
  {
   "cell_type": "code",
   "execution_count": null,
   "id": "2d4d0585",
   "metadata": {},
   "outputs": [],
   "source": [
    "def generateABHProfile(n):\n",
    "    numRings = 40\n",
    "    arrayRadius = []\n",
    "    R = 0.23\n",
    "    L = 0.5\n",
    "    xl=1.0e-3; \n",
    "    hring=0.001/1000;\n",
    "    dx = (L-xl-hring*numRings)/numRings;\n",
    "    arrayRadiusPositions = []\n",
    "    pos = -xl\n",
    "    for j in range(numRings): \n",
    "        pos = pos - dx\n",
    "        arrayRadiusPositions.append(abs(pos))\n",
    "        print(pos)\n",
    "    \n",
    "    for i in range(numRings):\n",
    "        currentRadius = R*(arrayRadiusPositions[i]/L)**n\n",
    "        arrayRadius.append(currentRadius)\n",
    "    return arrayRadius\n",
    "\n",
    "def radiusPerCent(arrayRadius,L):\n",
    "    return [ i / L *100 for i in arrayRadius]\n",
    "\n",
    "def generateRingsFromnpArray(n):\n",
    "    profile = generateABHProfile(n)\n",
    "    profilePerCent = radiusPerCent(profile,0.23)\n",
    "    proposal = []    \n",
    "    for element in profilePerCent:\n",
    "        proposal.append(element)\n",
    "    return proposal\n",
    "\n",
    "radis = generateRingsFromnpArray(1.62)\n",
    "print(radis)"
   ]
  }
 ],
 "metadata": {
  "kernelspec": {
   "display_name": "Python 3 (ipykernel)",
   "language": "python",
   "name": "python3"
  },
  "language_info": {
   "codemirror_mode": {
    "name": "ipython",
    "version": 3
   },
   "file_extension": ".py",
   "mimetype": "text/x-python",
   "name": "python",
   "nbconvert_exporter": "python",
   "pygments_lexer": "ipython3",
   "version": "3.9.7"
  }
 },
 "nbformat": 4,
 "nbformat_minor": 5
}
