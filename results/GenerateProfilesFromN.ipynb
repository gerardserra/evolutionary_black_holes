{
 "cells": [
  {
   "cell_type": "code",
   "execution_count": 1,
   "id": "223be387",
   "metadata": {},
   "outputs": [],
   "source": [
    "def generateRingsFromnpArray(n):\n",
    "    profile = generateABHProfile(n)\n",
    "    profilePerCent = radiusPerCent(profile,0.23)\n",
    "    proposal = []    \n",
    "    for element in profilePerCent:\n",
    "        proposal.append(element)\n",
    "    return proposal\n",
    "\n",
    "def generateABHProfile(n):\n",
    "    numRings = 40\n",
    "    arrayRadius = []\n",
    "    R = 0.23\n",
    "    L = 0.5\n",
    "    xl=1.0e-3;\n",
    "    hring=0.001/1000;\n",
    "    dx = (L-xl-hring*numRings)/numRings;\n",
    "    arrayRadiusPositions = []\n",
    "    pos = -xl\n",
    "    for j in range(numRings): \n",
    "        pos = pos - dx\n",
    "        arrayRadiusPositions.append(abs(pos))\n",
    "    \n",
    "    for i in range(numRings):\n",
    "        currentRadius = R*(arrayRadiusPositions[i]/L)**n\n",
    "        arrayRadius.append(currentRadius)\n",
    "    return arrayRadius\n",
    "\n",
    "def radiusPerCent(arrayRadius,L):\n",
    "    return [ i / L *100 for i in arrayRadius]\n",
    "\n"
   ]
  },
  {
   "cell_type": "code",
   "execution_count": 5,
   "id": "3415e27f",
   "metadata": {},
   "outputs": [
    {
     "data": {
      "text/plain": [
       "[0.0019569494883391997,\n",
       " 0.013976603817113598,\n",
       " 0.04537638458195839,\n",
       " 0.10547291337850877,\n",
       " 0.20358281180239998,\n",
       " 0.3490227014492671,\n",
       " 0.5511092039147455,\n",
       " 0.8191589407944702,\n",
       " 1.1624885336840765,\n",
       " 1.5904146041791998,\n",
       " 2.1122537738754756,\n",
       " 2.737322664368538,\n",
       " 3.474937897254024,\n",
       " 4.334416094127568,\n",
       " 5.325073876584805,\n",
       " 6.45622786622137,\n",
       " 7.737194684632899,\n",
       " 9.177290953415024,\n",
       " 10.785833294163385,\n",
       " 12.572138328473613,\n",
       " 14.545522677941342,\n",
       " 16.715302964162213,\n",
       " 19.090795808731855,\n",
       " 21.68131783324591,\n",
       " 24.496185659300004,\n",
       " 27.54471590848978,\n",
       " 30.836225202410873,\n",
       " 34.38003016265891,\n",
       " 38.18544741082954,\n",
       " 42.26179356851838,\n",
       " 46.61838525732108,\n",
       " 51.264539098833275,\n",
       " 56.209571714650586,\n",
       " 61.462799726368665,\n",
       " 67.03353975558313,\n",
       " 72.93110842388964,\n",
       " 79.16482235288382,\n",
       " 85.74399816416128,\n",
       " 92.6779524793177,\n",
       " 99.97600191994867]"
      ]
     },
     "execution_count": 5,
     "metadata": {},
     "output_type": "execute_result"
    }
   ],
   "source": [
    "generateRingsFromnpArray(3)"
   ]
  },
  {
   "cell_type": "code",
   "execution_count": null,
   "id": "9cb64c97",
   "metadata": {},
   "outputs": [],
   "source": []
  }
 ],
 "metadata": {
  "kernelspec": {
   "display_name": "Python 3 (ipykernel)",
   "language": "python",
   "name": "python3"
  },
  "language_info": {
   "codemirror_mode": {
    "name": "ipython",
    "version": 3
   },
   "file_extension": ".py",
   "mimetype": "text/x-python",
   "name": "python",
   "nbconvert_exporter": "python",
   "pygments_lexer": "ipython3",
   "version": "3.9.7"
  }
 },
 "nbformat": 4,
 "nbformat_minor": 5
}
