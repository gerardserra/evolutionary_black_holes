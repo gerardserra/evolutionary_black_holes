{
 "cells": [
  {
   "cell_type": "markdown",
   "id": "hindu-spelling",
   "metadata": {},
   "source": [
    "### Exploring evolutionary strategies for defining Acoustic Black Holes \n",
    "\n",
    "An acoustic black hole (ABH) is a technique that aims to reduce vibration of a certain wave in a thin-walled structure, i.e a duct termination\n",
    "\n",
    "To do that, we can explore  the usage of multiple concurrent layers with different morphologies that enhances the reduction of the wave speed. In ideal scenarios this speed would be decreased to zero but in real world scenarios it never vanishes.  \n",
    "\n",
    "\n",
    "Considering the usage of ABH in duct terminations, a common morphology is to use a set of concentric rings with power-law decreasing radius. See below: \n",
    "\n",
    "<img src=\"src/abh.jpg\">\n",
    "\n",
    "You can learn more about ABH [our blog ](https://blogs.salleurl.edu/en/acoustic-black-hole-duct-termination-realization-metafluid)\n",
    "\n",
    "In this notebook, we'll use different evolutionary approaches to learn morphologies that help to reduce the speed of an incoming wave. We'll consider some already known morphologies and compare how similar are the proposed morphologies. We'll consider:\n",
    "\n",
    "- Linear Equation\n",
    "- Quadratic Equation\n",
    "\n",
    "\n",
    "The algorithms tested will be the following: \n",
    "\n",
    "- CMA\n",
    "- Novelty Search\n",
    "- Map Elites"
   ]
  },
  {
   "cell_type": "markdown",
   "id": "direct-curve",
   "metadata": {},
   "source": [
    "### ABH solutions\n",
    "We define two known morphologies for duck terminations"
   ]
  },
  {
   "cell_type": "code",
   "execution_count": 1,
   "id": "lined-oregon",
   "metadata": {},
   "outputs": [],
   "source": [
    "\n",
    "def linearEquation(parameters):\n",
    "    distTruncation = 3\n",
    "    ringSeparation = 3\n",
    "    solution = []\n",
    "    for i in range(parameters):\n",
    "        solution.append(2*i*ringSeparation+distTruncation)\n",
    "    return solution\n",
    "\n",
    "def quadraticEquation(parameters):\n",
    "    distTruncation = 3\n",
    "    ringSeparation = 3\n",
    "    solution = []\n",
    "    for i in range(parameters):\n",
    "        solution.append(i*i*ringSeparation+distTruncation)\n",
    "    return solution"
   ]
  },
  {
   "cell_type": "code",
   "execution_count": 59,
   "id": "explicit-saver",
   "metadata": {},
   "outputs": [
    {
     "data": {
      "image/png": "[encoded data removed]",
      "text/plain": [
       "<Figure size 432x288 with 2 Axes>"
      ]
     },
     "metadata": {
      "needs_background": "light"
     },
     "output_type": "display_data"
    }
   ],
   "source": [
    "import matplotlib\n",
    "import matplotlib.pyplot as plt\n",
    "\n",
    "totalRings = 10\n",
    "solution = linearEquation(totalRings)\n",
    "fig, (ax1,ax2) = plt.subplots(1,2)\n",
    "fig.suptitle('Two ABH solutions')\n",
    "ax1.plot(solution,'o-')\n",
    "\n",
    "ax1.set(xlabel='Ring position', ylabel='Radius (R)',\n",
    "       title='Linear ABH')\n",
    "ax1.grid()\n",
    "\n",
    "solution = quadraticEquation(totalRings)\n",
    "ax2.plot(solution,'o-')\n",
    "ax2.set(xlabel='Ring position', ylabel='Radius (R)',\n",
    "       title='Quadratic ABH')\n",
    "ax2.grid()"
   ]
  },
  {
   "cell_type": "code",
   "execution_count": 2,
   "id": "suspended-beatles",
   "metadata": {},
   "outputs": [],
   "source": [
    "import math\n",
    "import numpy as np\n",
    "\n",
    "\n",
    "def evaluate(candidates, target, showPlot, title, order):\n",
    "    solutions = []\n",
    "    fitNormal = []\n",
    "    for i in range(len(candidates)):\n",
    "        fit = np.square(np.subtract(target,candidates[i])).mean()  \n",
    "        element = {\n",
    "            \"value\":candidates[i],\n",
    "            \"fit\": fit\n",
    "        }\n",
    "        fitNormal.append(fit);\n",
    "        solutions.append(element)\n",
    "    \n",
    "    newList = sorted(solutions, key=itemgetter('fit'), reverse = False)\n",
    "    if np.mean(fitNormal) < 0.05:\n",
    "        end = True\n",
    "        plot = True\n",
    "    else:\n",
    "        end = False\n",
    "    if showPlot is True:\n",
    "        x = []\n",
    "        y = []\n",
    "        fig, ax = plt.subplots()\n",
    "        fig.suptitle(title)\n",
    "       \n",
    "        for candidate in candidates:\n",
    "            ax.plot(candidate, color='tab:blue', linestyle='dashed',linewidth=0.5)\n",
    "        ax.plot(candidates[0], color='tab:green', linestyle='dashed', linewidth=3, marker='o')\n",
    "        ax.plot(target, color='tab:red', linestyle='dashed', linewidth=2, marker='o')\n",
    "        ax.set(xlabel='Ring position', ylabel='Radius (R)', title='Quadratic ABH')\n",
    "        ax.set_xlim(-1, len(target))\n",
    "        ax.set_ylim((-1, int(target[len(target)-1]+target[len(target)-1]*0.5)))\n",
    "        fig.show()\n",
    "    best = []\n",
    "    fitness = []\n",
    "\n",
    "    for i in range(0,len(newList)):\n",
    "        fitness.append(newList[i][\"fit\"])\n",
    "        best.append(newList[i][\"value\"])\n",
    "    return best,fitness,end\n",
    "\n"
   ]
  },
  {
   "cell_type": "code",
   "execution_count": 3,
   "id": "double-vienna",
   "metadata": {},
   "outputs": [],
   "source": [
    "class Solver:\n",
    "    def __init__(self,rings):\n",
    "        self.population = 500\n",
    "        self.initialMeans = np.zeros(rings)\n",
    "        self.initialSigma = 1\n",
    "        self.es = cma.CMAEvolutionStrategy(self.initialMeans, self.initialSigma, {'popsize': self.population})\n",
    "        self.candidates = self.es.ask()\n",
    "        \n",
    "    def ask(self):\n",
    "        return self.es.ask()\n",
    "   \n",
    "    def tell(self,best,fitness):\n",
    "        self.es.tell(best,fitness)\n",
    "    "
   ]
  },
  {
   "cell_type": "code",
   "execution_count": 5,
   "id": "promising-ireland",
   "metadata": {
    "scrolled": true
   },
   "outputs": [
    {
     "name": "stdout",
     "output_type": "stream",
     "text": [
      "[3, 9, 15, 21, 27, 33, 39, 45, 51, 57]\n",
      "(250_w,500)-aCMA-ES (mu_w=128.6,w_1=2%) in dimension 10 (seed=539041, Sat May  8 10:12:29 2021)\n"
     ]
    },
    {
     "ename": "AttributeError",
     "evalue": "module 'time' has no attribute 'clock'",
     "output_type": "error",
     "traceback": [
      "\u001b[0;31m---------------------------------------------------------------------------\u001b[0m",
      "\u001b[0;31mAttributeError\u001b[0m                            Traceback (most recent call last)",
      "\u001b[0;32m<ipython-input-5-224d586f8cff>\u001b[0m in \u001b[0;36m<module>\u001b[0;34m\u001b[0m\n\u001b[1;32m     28\u001b[0m         \u001b[0mgen\u001b[0m \u001b[0;34m+=\u001b[0m \u001b[0;36m1\u001b[0m\u001b[0;34m\u001b[0m\u001b[0;34m\u001b[0m\u001b[0m\n\u001b[1;32m     29\u001b[0m \u001b[0;34m\u001b[0m\u001b[0m\n\u001b[0;32m---> 30\u001b[0;31m \u001b[0mtestCMA\u001b[0m\u001b[0;34m(\u001b[0m\u001b[0;32mTrue\u001b[0m\u001b[0;34m)\u001b[0m\u001b[0;34m\u001b[0m\u001b[0;34m\u001b[0m\u001b[0m\n\u001b[0m",
      "\u001b[0;32m<ipython-input-5-224d586f8cff>\u001b[0m in \u001b[0;36mtestCMA\u001b[0;34m(showEvolution)\u001b[0m\n\u001b[1;32m     10\u001b[0m     \u001b[0minitialSigma\u001b[0m \u001b[0;34m=\u001b[0m \u001b[0;36m1\u001b[0m\u001b[0;34m\u001b[0m\u001b[0;34m\u001b[0m\u001b[0m\n\u001b[1;32m     11\u001b[0m \u001b[0;34m\u001b[0m\u001b[0m\n\u001b[0;32m---> 12\u001b[0;31m     \u001b[0mes\u001b[0m \u001b[0;34m=\u001b[0m \u001b[0mSolver\u001b[0m\u001b[0;34m(\u001b[0m\u001b[0mtotalRings\u001b[0m\u001b[0;34m)\u001b[0m\u001b[0;34m\u001b[0m\u001b[0;34m\u001b[0m\u001b[0m\n\u001b[0m\u001b[1;32m     13\u001b[0m     \u001b[0mcandidatesI\u001b[0m \u001b[0;34m=\u001b[0m \u001b[0mes\u001b[0m\u001b[0;34m.\u001b[0m\u001b[0mask\u001b[0m\u001b[0;34m(\u001b[0m\u001b[0;34m)\u001b[0m\u001b[0;34m\u001b[0m\u001b[0;34m\u001b[0m\u001b[0m\n\u001b[1;32m     14\u001b[0m \u001b[0;34m\u001b[0m\u001b[0m\n",
      "\u001b[0;32m<ipython-input-3-05d4e78665df>\u001b[0m in \u001b[0;36m__init__\u001b[0;34m(self, rings)\u001b[0m\n\u001b[1;32m      5\u001b[0m         \u001b[0mself\u001b[0m\u001b[0;34m.\u001b[0m\u001b[0minitialSigma\u001b[0m \u001b[0;34m=\u001b[0m \u001b[0;36m1\u001b[0m\u001b[0;34m\u001b[0m\u001b[0;34m\u001b[0m\u001b[0m\n\u001b[1;32m      6\u001b[0m         \u001b[0mself\u001b[0m\u001b[0;34m.\u001b[0m\u001b[0mes\u001b[0m \u001b[0;34m=\u001b[0m \u001b[0mcma\u001b[0m\u001b[0;34m.\u001b[0m\u001b[0mCMAEvolutionStrategy\u001b[0m\u001b[0;34m(\u001b[0m\u001b[0mself\u001b[0m\u001b[0;34m.\u001b[0m\u001b[0minitialMeans\u001b[0m\u001b[0;34m,\u001b[0m \u001b[0mself\u001b[0m\u001b[0;34m.\u001b[0m\u001b[0minitialSigma\u001b[0m\u001b[0;34m,\u001b[0m \u001b[0;34m{\u001b[0m\u001b[0;34m'popsize'\u001b[0m\u001b[0;34m:\u001b[0m \u001b[0mself\u001b[0m\u001b[0;34m.\u001b[0m\u001b[0mpopulation\u001b[0m\u001b[0;34m}\u001b[0m\u001b[0;34m)\u001b[0m\u001b[0;34m\u001b[0m\u001b[0;34m\u001b[0m\u001b[0m\n\u001b[0;32m----> 7\u001b[0;31m         \u001b[0mself\u001b[0m\u001b[0;34m.\u001b[0m\u001b[0mcandidates\u001b[0m \u001b[0;34m=\u001b[0m \u001b[0mself\u001b[0m\u001b[0;34m.\u001b[0m\u001b[0mes\u001b[0m\u001b[0;34m.\u001b[0m\u001b[0mask\u001b[0m\u001b[0;34m(\u001b[0m\u001b[0;34m)\u001b[0m\u001b[0;34m\u001b[0m\u001b[0;34m\u001b[0m\u001b[0m\n\u001b[0m\u001b[1;32m      8\u001b[0m \u001b[0;34m\u001b[0m\u001b[0m\n\u001b[1;32m      9\u001b[0m     \u001b[0;32mdef\u001b[0m \u001b[0mask\u001b[0m\u001b[0;34m(\u001b[0m\u001b[0mself\u001b[0m\u001b[0;34m)\u001b[0m\u001b[0;34m:\u001b[0m\u001b[0;34m\u001b[0m\u001b[0;34m\u001b[0m\u001b[0m\n",
      "\u001b[0;32m~/Experiments/PhD/evolutionary_black_holes/cma.py\u001b[0m in \u001b[0;36mask\u001b[0;34m(self, number, xmean, sigma_fac, gradf, args)\u001b[0m\n\u001b[1;32m   2995\u001b[0m \u001b[0;34m\u001b[0m\u001b[0m\n\u001b[1;32m   2996\u001b[0m         \"\"\"\n\u001b[0;32m-> 2997\u001b[0;31m         \u001b[0mpop_geno\u001b[0m \u001b[0;34m=\u001b[0m \u001b[0mself\u001b[0m\u001b[0;34m.\u001b[0m\u001b[0mask_geno\u001b[0m\u001b[0;34m(\u001b[0m\u001b[0mnumber\u001b[0m\u001b[0;34m,\u001b[0m \u001b[0mxmean\u001b[0m\u001b[0;34m,\u001b[0m \u001b[0msigma_fac\u001b[0m\u001b[0;34m)\u001b[0m\u001b[0;34m\u001b[0m\u001b[0;34m\u001b[0m\u001b[0m\n\u001b[0m\u001b[1;32m   2998\u001b[0m \u001b[0;34m\u001b[0m\u001b[0m\n\u001b[1;32m   2999\u001b[0m         \u001b[0;31m# N,lambda=20,200: overall CPU 7s vs 5s == 40% overhead, even without bounds!\u001b[0m\u001b[0;34m\u001b[0m\u001b[0;34m\u001b[0m\u001b[0;34m\u001b[0m\u001b[0m\n",
      "\u001b[0;32m~/Experiments/PhD/evolutionary_black_holes/cma.py\u001b[0m in \u001b[0;36mask_geno\u001b[0;34m(self, number, xmean, sigma_fac)\u001b[0m\n\u001b[1;32m   3150\u001b[0m \u001b[0;34m\u001b[0m\u001b[0m\n\u001b[1;32m   3151\u001b[0m         \u001b[0;32mif\u001b[0m \u001b[0mself\u001b[0m\u001b[0;34m.\u001b[0m\u001b[0mcountiter\u001b[0m \u001b[0;34m==\u001b[0m \u001b[0;36m0\u001b[0m\u001b[0;34m:\u001b[0m\u001b[0;34m\u001b[0m\u001b[0;34m\u001b[0m\u001b[0m\n\u001b[0;32m-> 3152\u001b[0;31m             \u001b[0mself\u001b[0m\u001b[0;34m.\u001b[0m\u001b[0mtic\u001b[0m \u001b[0;34m=\u001b[0m \u001b[0mtime\u001b[0m\u001b[0;34m.\u001b[0m\u001b[0mclock\u001b[0m\u001b[0;34m(\u001b[0m\u001b[0;34m)\u001b[0m  \u001b[0;31m# backward compatible\u001b[0m\u001b[0;34m\u001b[0m\u001b[0;34m\u001b[0m\u001b[0m\n\u001b[0m\u001b[1;32m   3153\u001b[0m             \u001b[0mself\u001b[0m\u001b[0;34m.\u001b[0m\u001b[0melapsed_time\u001b[0m \u001b[0;34m=\u001b[0m \u001b[0mElapsedTime\u001b[0m\u001b[0;34m(\u001b[0m\u001b[0;34m)\u001b[0m\u001b[0;34m\u001b[0m\u001b[0;34m\u001b[0m\u001b[0m\n\u001b[1;32m   3154\u001b[0m \u001b[0;34m\u001b[0m\u001b[0m\n",
      "\u001b[0;31mAttributeError\u001b[0m: module 'time' has no attribute 'clock'"
     ]
    }
   ],
   "source": [
    "import cma\n",
    "from operator import itemgetter\n",
    "def testCMA(showEvolution):\n",
    "    end = False\n",
    "    totalRings = 10\n",
    "    targetSolution = linearEquation(totalRings)\n",
    "    print(targetSolution)\n",
    "    population = 500\n",
    "    initialMeans = np.zeros(totalRings)\n",
    "    initialSigma = 1\n",
    "    \n",
    "    es = Solver(totalRings)\n",
    "    candidatesI = es.ask()\n",
    "   \n",
    "    gen = 0\n",
    "    \n",
    "    generationalBest = []\n",
    "    generationalMeanFit = []\n",
    "    while not (end):\n",
    "        \n",
    "        bestI,fitness,end = evaluate(candidatesI,targetSolution,showEvolution, \"CMA with \" +str(totalRings) + \" rings. G=\"+ str(gen), False)\n",
    "        es.tell(bestI,fitness)\n",
    "        candidatesI = es.ask()\n",
    "        \n",
    "        generationalBest.append(fitness[len(fitness)-1])\n",
    "        generationalMeanFit.append(np.mean(fitness))\n",
    "        print(np.mean(fitness))\n",
    "        gen += 1\n",
    "\n",
    "testCMA(True)"
   ]
  },
  {
   "cell_type": "code",
   "execution_count": 6,
   "id": "classical-outdoors",
   "metadata": {
    "scrolled": true
   },
   "outputs": [
    {
     "name": "stdout",
     "output_type": "stream",
     "text": [
      "[3, 9, 15, 21, 27, 33, 39, 45, 51, 57]\n",
      "(250_w,500)-aCMA-ES (mu_w=128.6,w_1=2%) in dimension 10 (seed=571645, Sat May  8 10:12:35 2021)\n"
     ]
    },
    {
     "ename": "AttributeError",
     "evalue": "module 'time' has no attribute 'clock'",
     "output_type": "error",
     "traceback": [
      "\u001b[0;31m---------------------------------------------------------------------------\u001b[0m",
      "\u001b[0;31mAttributeError\u001b[0m                            Traceback (most recent call last)",
      "\u001b[0;32m<ipython-input-6-e03895080024>\u001b[0m in \u001b[0;36m<module>\u001b[0;34m\u001b[0m\n\u001b[1;32m     28\u001b[0m         \u001b[0mgen\u001b[0m \u001b[0;34m+=\u001b[0m \u001b[0;36m1\u001b[0m\u001b[0;34m\u001b[0m\u001b[0;34m\u001b[0m\u001b[0m\n\u001b[1;32m     29\u001b[0m \u001b[0;34m\u001b[0m\u001b[0m\n\u001b[0;32m---> 30\u001b[0;31m \u001b[0mtestCMA\u001b[0m\u001b[0;34m(\u001b[0m\u001b[0;32mTrue\u001b[0m\u001b[0;34m)\u001b[0m\u001b[0;34m\u001b[0m\u001b[0;34m\u001b[0m\u001b[0m\n\u001b[0m",
      "\u001b[0;32m<ipython-input-6-e03895080024>\u001b[0m in \u001b[0;36mtestCMA\u001b[0;34m(showEvolution)\u001b[0m\n\u001b[1;32m     11\u001b[0m \u001b[0;34m\u001b[0m\u001b[0m\n\u001b[1;32m     12\u001b[0m     \u001b[0mes\u001b[0m \u001b[0;34m=\u001b[0m \u001b[0mcma\u001b[0m\u001b[0;34m.\u001b[0m\u001b[0mCMAEvolutionStrategy\u001b[0m\u001b[0;34m(\u001b[0m\u001b[0minitialMeans\u001b[0m\u001b[0;34m,\u001b[0m \u001b[0minitialSigma\u001b[0m\u001b[0;34m,\u001b[0m \u001b[0;34m{\u001b[0m\u001b[0;34m'popsize'\u001b[0m\u001b[0;34m:\u001b[0m \u001b[0mpopulation\u001b[0m\u001b[0;34m}\u001b[0m\u001b[0;34m)\u001b[0m\u001b[0;34m\u001b[0m\u001b[0;34m\u001b[0m\u001b[0m\n\u001b[0;32m---> 13\u001b[0;31m     \u001b[0mcandidatesI\u001b[0m \u001b[0;34m=\u001b[0m \u001b[0mes\u001b[0m\u001b[0;34m.\u001b[0m\u001b[0mask\u001b[0m\u001b[0;34m(\u001b[0m\u001b[0;34m)\u001b[0m\u001b[0;34m\u001b[0m\u001b[0;34m\u001b[0m\u001b[0m\n\u001b[0m\u001b[1;32m     14\u001b[0m \u001b[0;34m\u001b[0m\u001b[0m\n\u001b[1;32m     15\u001b[0m     \u001b[0mgen\u001b[0m \u001b[0;34m=\u001b[0m \u001b[0;36m0\u001b[0m\u001b[0;34m\u001b[0m\u001b[0;34m\u001b[0m\u001b[0m\n",
      "\u001b[0;32m~/Experiments/PhD/evolutionary_black_holes/cma.py\u001b[0m in \u001b[0;36mask\u001b[0;34m(self, number, xmean, sigma_fac, gradf, args)\u001b[0m\n\u001b[1;32m   2995\u001b[0m \u001b[0;34m\u001b[0m\u001b[0m\n\u001b[1;32m   2996\u001b[0m         \"\"\"\n\u001b[0;32m-> 2997\u001b[0;31m         \u001b[0mpop_geno\u001b[0m \u001b[0;34m=\u001b[0m \u001b[0mself\u001b[0m\u001b[0;34m.\u001b[0m\u001b[0mask_geno\u001b[0m\u001b[0;34m(\u001b[0m\u001b[0mnumber\u001b[0m\u001b[0;34m,\u001b[0m \u001b[0mxmean\u001b[0m\u001b[0;34m,\u001b[0m \u001b[0msigma_fac\u001b[0m\u001b[0;34m)\u001b[0m\u001b[0;34m\u001b[0m\u001b[0;34m\u001b[0m\u001b[0m\n\u001b[0m\u001b[1;32m   2998\u001b[0m \u001b[0;34m\u001b[0m\u001b[0m\n\u001b[1;32m   2999\u001b[0m         \u001b[0;31m# N,lambda=20,200: overall CPU 7s vs 5s == 40% overhead, even without bounds!\u001b[0m\u001b[0;34m\u001b[0m\u001b[0;34m\u001b[0m\u001b[0;34m\u001b[0m\u001b[0m\n",
      "\u001b[0;32m~/Experiments/PhD/evolutionary_black_holes/cma.py\u001b[0m in \u001b[0;36mask_geno\u001b[0;34m(self, number, xmean, sigma_fac)\u001b[0m\n\u001b[1;32m   3150\u001b[0m \u001b[0;34m\u001b[0m\u001b[0m\n\u001b[1;32m   3151\u001b[0m         \u001b[0;32mif\u001b[0m \u001b[0mself\u001b[0m\u001b[0;34m.\u001b[0m\u001b[0mcountiter\u001b[0m \u001b[0;34m==\u001b[0m \u001b[0;36m0\u001b[0m\u001b[0;34m:\u001b[0m\u001b[0;34m\u001b[0m\u001b[0;34m\u001b[0m\u001b[0m\n\u001b[0;32m-> 3152\u001b[0;31m             \u001b[0mself\u001b[0m\u001b[0;34m.\u001b[0m\u001b[0mtic\u001b[0m \u001b[0;34m=\u001b[0m \u001b[0mtime\u001b[0m\u001b[0;34m.\u001b[0m\u001b[0mclock\u001b[0m\u001b[0;34m(\u001b[0m\u001b[0;34m)\u001b[0m  \u001b[0;31m# backward compatible\u001b[0m\u001b[0;34m\u001b[0m\u001b[0;34m\u001b[0m\u001b[0m\n\u001b[0m\u001b[1;32m   3153\u001b[0m             \u001b[0mself\u001b[0m\u001b[0;34m.\u001b[0m\u001b[0melapsed_time\u001b[0m \u001b[0;34m=\u001b[0m \u001b[0mElapsedTime\u001b[0m\u001b[0;34m(\u001b[0m\u001b[0;34m)\u001b[0m\u001b[0;34m\u001b[0m\u001b[0;34m\u001b[0m\u001b[0m\n\u001b[1;32m   3154\u001b[0m \u001b[0;34m\u001b[0m\u001b[0m\n",
      "\u001b[0;31mAttributeError\u001b[0m: module 'time' has no attribute 'clock'"
     ]
    }
   ],
   "source": [
    "import cma\n",
    "from operator import itemgetter\n",
    "def testCMA(showEvolution):\n",
    "    end = False\n",
    "    totalRings = 10\n",
    "    targetSolution = linearEquation(totalRings)\n",
    "    print(targetSolution)\n",
    "    population = 500\n",
    "    initialMeans = np.zeros(totalRings)\n",
    "    initialSigma = 1\n",
    "    \n",
    "    es = cma.CMAEvolutionStrategy(initialMeans, initialSigma, {'popsize': population})\n",
    "    candidatesI = es.ask()\n",
    "   \n",
    "    gen = 0\n",
    "    \n",
    "    generationalBest = []\n",
    "    generationalMeanFit = []\n",
    "    while not (end):\n",
    "        \n",
    "        bestI,fitness,end = evaluate(candidatesI,targetSolution,showEvolution, \"CMA with \" +str(totalRings) + \" rings. G=\"+ str(gen), False)\n",
    "        es.tell(bestI,fitness)\n",
    "        candidatesI = es.ask()\n",
    "        \n",
    "        generationalBest.append(fitness[len(fitness)-1])\n",
    "        generationalMeanFit.append(np.mean(fitness))\n",
    "        print(np.mean(fitness))\n",
    "        gen += 1\n",
    "\n",
    "testCMA(True)"
   ]
  },
  {
   "cell_type": "code",
   "execution_count": null,
   "id": "sublime-casting",
   "metadata": {},
   "outputs": [],
   "source": []
  }
 ],
 "metadata": {
  "kernelspec": {
   "display_name": "Python 3",
   "language": "python",
   "name": "python3"
  },
  "language_info": {
   "codemirror_mode": {
    "name": "ipython",
    "version": 3
   },
   "file_extension": ".py",
   "mimetype": "text/x-python",
   "name": "python",
   "nbconvert_exporter": "python",
   "pygments_lexer": "ipython3",
   "version": "3.9.2"
  }
 },
 "nbformat": 4,
 "nbformat_minor": 5
}
